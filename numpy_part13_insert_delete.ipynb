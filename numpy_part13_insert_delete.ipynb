{
 "cells": [
  {
   "cell_type": "markdown",
   "id": "6b499f37",
   "metadata": {},
   "source": [
    "### insert and delete  ###"
   ]
  },
  {
   "cell_type": "code",
   "execution_count": 11,
   "id": "b4a8a865",
   "metadata": {},
   "outputs": [
    {
     "name": "stdout",
     "output_type": "stream",
     "text": [
      "[1 2 3 4]\n",
      "<class 'numpy.ndarray'>\n",
      "1\n",
      "\n",
      "[  1   2 333   3   4]\n"
     ]
    }
   ],
   "source": [
    "#insert\n",
    "import numpy as np\n",
    "var = np.array([1,2,3,4])\n",
    "print(var)\n",
    "print(type(var))\n",
    "print(var.ndim)\n",
    "print()\n",
    "\n",
    "v = np.insert(var,[2],333)\n",
    "print(v)"
   ]
  },
  {
   "cell_type": "code",
   "execution_count": 14,
   "id": "1dec2346",
   "metadata": {},
   "outputs": [
    {
     "name": "stdout",
     "output_type": "stream",
     "text": [
      "[1 2 3 4]\n",
      "<class 'numpy.ndarray'>\n",
      "1\n",
      "\n",
      "[  1   2 333   3   4 333]\n"
     ]
    }
   ],
   "source": [
    "#multipl position\n",
    "var = np.array([1,2,3,4])\n",
    "print(var)\n",
    "print(type(var))\n",
    "print(var.ndim)\n",
    "print()\n",
    "\n",
    "v = np.insert(var,[2,4],333)\n",
    "print(v)\n",
    "#it can not assign float value\n",
    "#it will give in round about and assign inform of integer"
   ]
  },
  {
   "cell_type": "code",
   "execution_count": 15,
   "id": "996eacff",
   "metadata": {},
   "outputs": [
    {
     "name": "stdout",
     "output_type": "stream",
     "text": [
      "[[1 2 3 4]\n",
      " [5 6 7 8]\n",
      " [6 6 6 6]]\n"
     ]
    }
   ],
   "source": [
    "#two dimension \n",
    "var1 = np.array([[1,2,3,4],[5,6,7,8]])\n",
    "\n",
    "v1 = np.insert(var1,2,6 , axis=0)\n",
    "print(v1)"
   ]
  },
  {
   "cell_type": "code",
   "execution_count": 17,
   "id": "1628e2bc",
   "metadata": {},
   "outputs": [
    {
     "name": "stdout",
     "output_type": "stream",
     "text": [
      "[[1 2 6 3 4]\n",
      " [5 6 6 7 8]]\n"
     ]
    }
   ],
   "source": [
    "#two dimension for row\n",
    "var1 = np.array([[1,2,3,4],[5,6,7,8]])\n",
    "\n",
    "v1 = np.insert(var1,2,6 , axis=1)\n",
    "print(v1)\n",
    "#inform of row"
   ]
  },
  {
   "cell_type": "code",
   "execution_count": 24,
   "id": "77ab63ef",
   "metadata": {},
   "outputs": [
    {
     "name": "stdout",
     "output_type": "stream",
     "text": [
      "[[1 2 3 4]\n",
      " [5 6 7 8]\n",
      " [6 4 5 6]]\n"
     ]
    }
   ],
   "source": [
    "#inserting multiple data\n",
    "#two dimension \n",
    "var3 = np.array([[1,2,3,4],[5,6,7,8]])\n",
    "\n",
    "v1 = np.insert(var3,2,[6,4,5,6], axis=0)\n",
    "print(v1)"
   ]
  },
  {
   "cell_type": "code",
   "execution_count": 32,
   "id": "27e173ec",
   "metadata": {},
   "outputs": [
    {
     "name": "stdout",
     "output_type": "stream",
     "text": [
      "[[ 1  2]\n",
      " [ 7  8]\n",
      " [33 44]]\n"
     ]
    }
   ],
   "source": [
    "#append \n",
    "var4 = np.array([[1,2],[7,8]])\n",
    "\n",
    "v4 = np.append(var4,[[33,44]],axis=0)\n",
    "print(v4)"
   ]
  },
  {
   "cell_type": "code",
   "execution_count": 35,
   "id": "e391e62f",
   "metadata": {},
   "outputs": [
    {
     "name": "stdout",
     "output_type": "stream",
     "text": [
      "[1 2 4]\n"
     ]
    }
   ],
   "source": [
    "#Dlete\n",
    "vard = np.array([1,2,3,4])  \n",
    "d = np.delete(vard,[2])\n",
    "print(d)"
   ]
  }
 ],
 "metadata": {
  "kernelspec": {
   "display_name": "Python 3 (ipykernel)",
   "language": "python",
   "name": "python3"
  },
  "language_info": {
   "codemirror_mode": {
    "name": "ipython",
    "version": 3
   },
   "file_extension": ".py",
   "mimetype": "text/x-python",
   "name": "python",
   "nbconvert_exporter": "python",
   "pygments_lexer": "ipython3",
   "version": "3.9.12"
  }
 },
 "nbformat": 4,
 "nbformat_minor": 5
}
